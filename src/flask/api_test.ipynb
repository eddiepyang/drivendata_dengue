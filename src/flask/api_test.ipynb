{
 "cells": [
  {
   "cell_type": "code",
   "execution_count": 1,
   "metadata": {},
   "outputs": [],
   "source": [
    "import numpy as np\n",
    "import pandas as pd\n",
    "import flask\n",
    "# from flask import Flask, flash, request, redirect, url_for\n",
    "from statsmodels.tsa.api import ExponentialSmoothing\n",
    "import requests"
   ]
  },
  {
   "cell_type": "code",
   "execution_count": 164,
   "metadata": {},
   "outputs": [],
   "source": [
    "import os\n",
    "os.environ['NO_PROXY'] = '127.0.0.1'"
   ]
  },
  {
   "cell_type": "code",
   "execution_count": 2,
   "metadata": {},
   "outputs": [],
   "source": [
    "url='127.0.0.1:5001'\n",
    "r=requests.get(f'http://{url}')"
   ]
  },
  {
   "cell_type": "code",
   "execution_count": 45,
   "metadata": {},
   "outputs": [
    {
     "data": {
      "text/plain": [
       "dtype('float64')"
      ]
     },
     "execution_count": 45,
     "metadata": {},
     "output_type": "execute_result"
    }
   ],
   "source": [
    "data.dtype"
   ]
  },
  {
   "cell_type": "code",
   "execution_count": 72,
   "metadata": {},
   "outputs": [],
   "source": [
    "response=requests.post(f'http://{url}/predict', json=df.to_dict())\n",
    "res = json.loads(response.content)"
   ]
  },
  {
   "cell_type": "code",
   "execution_count": 77,
   "metadata": {},
   "outputs": [],
   "source": [
    "import json"
   ]
  },
  {
   "cell_type": "code",
   "execution_count": 80,
   "metadata": {},
   "outputs": [],
   "source": []
  },
  {
   "cell_type": "code",
   "execution_count": 84,
   "metadata": {},
   "outputs": [
    {
     "data": {
      "text/plain": [
       "52    29.411374\n",
       "53    20.668839\n",
       "54    34.635358\n",
       "55    36.663384\n",
       "56    29.296429\n",
       "57    20.596242\n",
       "58    34.589507\n",
       "59    36.634426\n",
       "60    29.278140\n",
       "61    20.584691\n",
       "dtype: float64"
      ]
     },
     "execution_count": 84,
     "metadata": {},
     "output_type": "execute_result"
    }
   ],
   "source": [
    "pd.Series(res)"
   ]
  },
  {
   "cell_type": "code",
   "execution_count": 18,
   "metadata": {},
   "outputs": [],
   "source": [
    "def get_data(df):\n",
    "\n",
    "    data = df[df.city=='sj'].iloc[:,1:].station_precip_mm\n",
    "    data.index = pd.DatetimeIndex(df[df.city=='sj'].iloc[:,1:].week_start_date)\n",
    "\n",
    "    return data\n",
    "\n",
    "def get_model(data):\n",
    "\n",
    "    fit = ExponentialSmoothing(data.tail(52), trend='add', \n",
    "                         damped=True, seasonal='add', \n",
    "                         seasonal_periods=4).fit()\n",
    "    return fit\n"
   ]
  },
  {
   "cell_type": "code",
   "execution_count": 19,
   "metadata": {},
   "outputs": [
    {
     "name": "stderr",
     "output_type": "stream",
     "text": [
      "/home/ryeyoo/anaconda3/envs/keras/lib/python3.6/site-packages/statsmodels/tsa/base/tsa_model.py:225: ValueWarning: A date index has been provided, but it has no associated frequency information and so will be ignored when e.g. forecasting.\n",
      "  ' ignored when e.g. forecasting.', ValueWarning)\n"
     ]
    }
   ],
   "source": [
    "data = get_data(df)\n",
    "model = get_model(data)"
   ]
  },
  {
   "cell_type": "code",
   "execution_count": 22,
   "metadata": {},
   "outputs": [
    {
     "data": {
      "text/plain": [
       "week_start_date\n",
       "2012-04-29    17.5\n",
       "2012-05-06    20.6\n",
       "2012-05-13    72.0\n",
       "2012-05-20    17.8\n",
       "2012-05-27    34.6\n",
       "2012-06-03     6.4\n",
       "2012-06-10     3.6\n",
       "2012-06-17     0.0\n",
       "2012-06-24     0.6\n",
       "2012-07-01     3.1\n",
       "2012-07-08    11.0\n",
       "2012-07-15    52.0\n",
       "2012-07-22    13.2\n",
       "2012-07-29    49.4\n",
       "2012-08-05     8.7\n",
       "2012-08-12    50.1\n",
       "2012-08-19    69.6\n",
       "2012-08-26    26.9\n",
       "2012-09-02    80.2\n",
       "2012-09-09     3.1\n",
       "2012-09-16     0.0\n",
       "2012-09-23     5.6\n",
       "2012-09-30     5.4\n",
       "2012-10-07    42.6\n",
       "2012-10-14    17.3\n",
       "2012-10-21    32.5\n",
       "2012-10-28    49.8\n",
       "2012-11-04    19.3\n",
       "2012-11-11     1.5\n",
       "2012-11-18     3.1\n",
       "2012-11-25    14.2\n",
       "2012-12-02    46.6\n",
       "2012-12-09    58.9\n",
       "2012-12-16     9.8\n",
       "2012-12-23    26.4\n",
       "2013-01-01    22.7\n",
       "2013-01-08     8.7\n",
       "2013-01-15    17.2\n",
       "2013-01-22     6.4\n",
       "2013-01-29     6.1\n",
       "2013-02-05    26.4\n",
       "2013-02-12    34.8\n",
       "2013-02-19     0.3\n",
       "2013-02-26     4.1\n",
       "2013-03-05     6.6\n",
       "2013-03-12    17.1\n",
       "2013-03-19     4.8\n",
       "2013-03-26     3.5\n",
       "2013-04-02    17.6\n",
       "2013-04-09     9.4\n",
       "2013-04-16    22.9\n",
       "2013-04-23    47.5\n",
       "Name: station_precip_mm, dtype: float64"
      ]
     },
     "execution_count": 22,
     "metadata": {},
     "output_type": "execute_result"
    }
   ],
   "source": [
    "data.tail(52)"
   ]
  },
  {
   "cell_type": "code",
   "execution_count": 20,
   "metadata": {},
   "outputs": [
    {
     "name": "stderr",
     "output_type": "stream",
     "text": [
      "/home/ryeyoo/anaconda3/envs/keras/lib/python3.6/site-packages/statsmodels/tsa/base/tsa_model.py:531: ValueWarning: No supported index is available. Prediction results will be given with an integer index beginning at `start`.\n",
      "  ValueWarning)\n"
     ]
    }
   ],
   "source": [
    "result = model.forecast(10)"
   ]
  },
  {
   "cell_type": "code",
   "execution_count": 21,
   "metadata": {},
   "outputs": [
    {
     "data": {
      "text/plain": [
       "52    17.353683\n",
       "53    15.805004\n",
       "54    17.680844\n",
       "55    14.199086\n",
       "56    17.462574\n",
       "57    15.879508\n",
       "58    17.731821\n",
       "59    14.233965\n",
       "60    17.486438\n",
       "61    15.895836\n",
       "dtype: float64"
      ]
     },
     "execution_count": 21,
     "metadata": {},
     "output_type": "execute_result"
    }
   ],
   "source": [
    "result"
   ]
  },
  {
   "cell_type": "code",
   "execution_count": 123,
   "metadata": {},
   "outputs": [],
   "source": [
    "app = flask.Flask(__name__)\n",
    "data = None\n",
    "model = None"
   ]
  },
  {
   "cell_type": "code",
   "execution_count": 133,
   "metadata": {},
   "outputs": [],
   "source": [
    "@app.route(\"/predict\", methods=[\"POST\"])\n",
    "def predict():\n",
    "    # initialize the data dictionary that will be returned from the\n",
    "    # view\n",
    "    data = {\"success\": False}\n",
    "\n",
    "    # ensure an image was properly uploaded to our endpoint\n",
    "    if flask.request.method == \"POST\":\n",
    "        \n",
    "        preds = model.forecast(20)\n",
    "        \n",
    "        data[\"predictions\"] = preds\n",
    "\n",
    "        data[\"success\"] = True\n",
    "\n",
    "    # return the data dictionary as a JSON response\n",
    "    return flask.jsonify(data)"
   ]
  },
  {
   "cell_type": "code",
   "execution_count": 97,
   "metadata": {},
   "outputs": [],
   "source": [
    "res = pd.to_datetime(df[df.city=='sj'].iloc[:,1:].week_start_date, infer_datetime_format=True, yearfirst=True)"
   ]
  },
  {
   "cell_type": "code",
   "execution_count": 10,
   "metadata": {},
   "outputs": [],
   "source": [
    "def proc_data():\n",
    "\n",
    "    df = pd.read_csv('../../data/input/dengue_features_test.csv')\n",
    "    data = df[df.city=='sj'].iloc[:,1:].station_precip_mm\n",
    "    data.index = pd.DatetimeIndex(df[df.city=='sj'].iloc[:,1:].week_start_date)\n",
    "\n",
    "    return data\n",
    "\n",
    "def get_model():\n",
    "    fit = ExponentialSmoothing(data.tail(52), trend='add', \n",
    "                         damped=True, seasonal='add', \n",
    "                         seasonal_periods=4).fit()\n",
    "    return fit"
   ]
  },
  {
   "cell_type": "code",
   "execution_count": 14,
   "metadata": {},
   "outputs": [],
   "source": [
    "df = pd.read_csv('../../data/input/dengue_features_test.csv')"
   ]
  },
  {
   "cell_type": "code",
   "execution_count": 11,
   "metadata": {},
   "outputs": [
    {
     "name": "stderr",
     "output_type": "stream",
     "text": [
      "/home/ryeyoo/anaconda3/envs/keras/lib/python3.6/site-packages/statsmodels/tsa/base/tsa_model.py:225: ValueWarning: A date index has been provided, but it has no associated frequency information and so will be ignored when e.g. forecasting.\n",
      "  ' ignored when e.g. forecasting.', ValueWarning)\n"
     ]
    }
   ],
   "source": [
    "data = proc_data()\n",
    "res = get_model()"
   ]
  },
  {
   "cell_type": "code",
   "execution_count": 13,
   "metadata": {},
   "outputs": [
    {
     "name": "stderr",
     "output_type": "stream",
     "text": [
      "/home/ryeyoo/anaconda3/envs/keras/lib/python3.6/site-packages/statsmodels/tsa/base/tsa_model.py:531: ValueWarning: No supported index is available. Prediction results will be given with an integer index beginning at `start`.\n",
      "  ValueWarning)\n"
     ]
    },
    {
     "data": {
      "text/plain": [
       "{52: 17.35368309025058,\n",
       " 53: 15.805003614857075,\n",
       " 54: 17.680844199956557,\n",
       " 55: 14.199086266716122,\n",
       " 56: 17.462574193471543,\n",
       " 57: 15.879507769265071,\n",
       " 58: 17.731820531905242,\n",
       " 59: 14.233964676377848,\n",
       " 60: 17.48643827733218,\n",
       " 61: 15.895835764263435,\n",
       " 62: 17.74299227527589,\n",
       " 63: 14.241608471586758,\n",
       " 64: 17.491668222494475,\n",
       " 65: 15.89941413412462,\n",
       " 66: 17.745440624248214,\n",
       " 67: 14.243283651325811,\n",
       " 68: 17.49281439372654,\n",
       " 69: 15.900198353550504,\n",
       " 70: 17.74597719338442,\n",
       " 71: 14.243650776174324}"
      ]
     },
     "execution_count": 13,
     "metadata": {},
     "output_type": "execute_result"
    }
   ],
   "source": [
    "res.forecast(20).to_dict()"
   ]
  },
  {
   "cell_type": "code",
   "execution_count": 193,
   "metadata": {},
   "outputs": [
    {
     "data": {
      "text/plain": [
       "b'{\"54\": NaN, \"55\": NaN, \"56\": NaN, \"57\": NaN, \"58\": NaN, \"59\": NaN, \"60\": NaN, \"61\": NaN, \"62\": NaN, \"63\": NaN}'"
      ]
     },
     "execution_count": 193,
     "metadata": {},
     "output_type": "execute_result"
    }
   ],
   "source": [
    "response.content"
   ]
  },
  {
   "cell_type": "code",
   "execution_count": 117,
   "metadata": {},
   "outputs": [
    {
     "name": "stderr",
     "output_type": "stream",
     "text": [
      "/home/ryeyoo/anaconda3/envs/keras/lib/python3.6/site-packages/statsmodels/tsa/base/tsa_model.py:531: ValueWarning: No supported index is available. Prediction results will be given with an integer index beginning at `start`.\n",
      "  ValueWarning)\n"
     ]
    },
    {
     "data": {
      "text/plain": [
       "<matplotlib.axes._subplots.AxesSubplot at 0x7f52c41fd128>"
      ]
     },
     "execution_count": 117,
     "metadata": {},
     "output_type": "execute_result"
    },
    {
     "data": {
      "image/png": "[encoded data removed]",
      "text/plain": [
       "<Figure size 432x288 with 1 Axes>"
      ]
     },
     "metadata": {},
     "output_type": "display_data"
    }
   ],
   "source": [
    "fit.forecast(20).plot()"
   ]
  }
 ],
 "metadata": {
  "kernelspec": {
   "display_name": "Python [conda env:keras]",
   "language": "python",
   "name": "conda-env-keras-py"
  },
  "language_info": {
   "codemirror_mode": {
    "name": "ipython",
    "version": 3
   },
   "file_extension": ".py",
   "mimetype": "text/x-python",
   "name": "python",
   "nbconvert_exporter": "python",
   "pygments_lexer": "ipython3",
   "version": "3.6.5"
  }
 },
 "nbformat": 4,
 "nbformat_minor": 2
}
